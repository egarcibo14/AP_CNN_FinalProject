{
  "nbformat": 4,
  "nbformat_minor": 0,
  "metadata": {
    "colab": {
      "provenance": []
    },
    "kernelspec": {
      "name": "python3",
      "display_name": "Python 3"
    },
    "language_info": {
      "name": "python"
    }
  },
  "cells": [
    {
      "cell_type": "markdown",
      "source": [
        "This code was adapted from the following github: https://github.com/justjoshtings/satellite_image_segmentation"
      ],
      "metadata": {
        "id": "iTDVEb5sYBkX"
      }
    },
    {
      "cell_type": "code",
      "source": [
        "!pip install pystac pystac_client"
      ],
      "metadata": {
        "colab": {
          "base_uri": "https://localhost:8080/"
        },
        "id": "TWO0LTaEYd7O",
        "outputId": "2ecd0acc-7a27-4a57-bf8d-6e9ea1543bf8"
      },
      "execution_count": null,
      "outputs": [
        {
          "output_type": "stream",
          "name": "stdout",
          "text": [
            "Collecting pystac\n",
            "  Downloading pystac-1.8.3-py3-none-any.whl (175 kB)\n",
            "\u001b[2K     \u001b[90m━━━━━━━━━━━━━━━━━━━━━━━━━━━━━━━━━━━━━━━\u001b[0m \u001b[32m175.6/175.6 kB\u001b[0m \u001b[31m2.7 MB/s\u001b[0m eta \u001b[36m0:00:00\u001b[0m\n",
            "\u001b[?25hCollecting pystac_client\n",
            "  Downloading pystac_client-0.7.2-py3-none-any.whl (33 kB)\n",
            "Requirement already satisfied: python-dateutil>=2.7.0 in /usr/local/lib/python3.10/dist-packages (from pystac) (2.8.2)\n",
            "Requirement already satisfied: requests>=2.28.2 in /usr/local/lib/python3.10/dist-packages (from pystac_client) (2.31.0)\n",
            "Requirement already satisfied: jsonschema<4.18,>=4.0.1 in /usr/local/lib/python3.10/dist-packages (from pystac) (4.3.3)\n",
            "Requirement already satisfied: six>=1.5 in /usr/local/lib/python3.10/dist-packages (from python-dateutil>=2.7.0->pystac) (1.16.0)\n",
            "Requirement already satisfied: charset-normalizer<4,>=2 in /usr/local/lib/python3.10/dist-packages (from requests>=2.28.2->pystac_client) (3.2.0)\n",
            "Requirement already satisfied: idna<4,>=2.5 in /usr/local/lib/python3.10/dist-packages (from requests>=2.28.2->pystac_client) (3.4)\n",
            "Requirement already satisfied: urllib3<3,>=1.21.1 in /usr/local/lib/python3.10/dist-packages (from requests>=2.28.2->pystac_client) (1.26.16)\n",
            "Requirement already satisfied: certifi>=2017.4.17 in /usr/local/lib/python3.10/dist-packages (from requests>=2.28.2->pystac_client) (2023.7.22)\n",
            "Requirement already satisfied: attrs>=17.4.0 in /usr/local/lib/python3.10/dist-packages (from jsonschema<4.18,>=4.0.1->pystac) (23.1.0)\n",
            "Requirement already satisfied: pyrsistent!=0.17.0,!=0.17.1,!=0.17.2,>=0.14.0 in /usr/local/lib/python3.10/dist-packages (from jsonschema<4.18,>=4.0.1->pystac) (0.19.3)\n",
            "Installing collected packages: pystac, pystac_client\n",
            "Successfully installed pystac-1.8.3 pystac_client-0.7.2\n"
          ]
        }
      ]
    },
    {
      "cell_type": "markdown",
      "source": [
        "##TO -DO:\n",
        "\n",
        "Change the abspath_curr to reflect Emma's drive/directories, which hase the data"
      ],
      "metadata": {
        "id": "WVWl4YTYY5XV"
      }
    },
    {
      "cell_type": "code",
      "execution_count": null,
      "metadata": {
        "colab": {
          "base_uri": "https://localhost:8080/"
        },
        "id": "Kt_ZNcenX1x6",
        "outputId": "be852792-602a-424c-c4af-80f0da6d01e8"
      },
      "outputs": [
        {
          "output_type": "stream",
          "name": "stdout",
          "text": [
            "Drive already mounted at /content/drive; to attempt to forcibly remount, call drive.mount(\"/content/drive\", force_remount=True).\n"
          ]
        }
      ],
      "source": [
        "from google.colab import drive\n",
        "import sys\n",
        "\n",
        "# Mount Google Drive\n",
        "drive.mount('/content/drive')\n",
        "\n",
        "# Get the absolute path of the current folder\n",
        "abspath_curr = '/content/drive/My Drive/Application Development Final proj'"
      ]
    },
    {
      "cell_type": "code",
      "source": [
        "import matplotlib.pyplot as plt\n",
        "%matplotlib inline\n",
        "\n",
        "%tensorflow_version 2.x\n",
        "import tensorflow as tf\n",
        "from tensorflow import keras\n",
        "\n",
        "import numpy as np\n",
        "import pandas as pd\n",
        "import os\n",
        "import shutil\n",
        "import math\n",
        "\n",
        "from PIL import Image\n",
        "import glob\n",
        "import cv2\n",
        "import pickle\n",
        "import copy\n",
        "\n",
        "import warnings\n",
        "import random\n",
        "\n",
        "\n",
        "import requests\n",
        "\n",
        "import tempfile\n",
        "from pathlib import Path\n",
        "import itertools as it\n",
        "from urllib.parse import urljoin\n",
        "\n",
        "from pystac import Item\n",
        "from pystac.extensions.eo import EOExtension\n",
        "from pystac.extensions.label import LabelRelType\n",
        "from pystac.extensions.scientific import ScientificExtension\n",
        "from pystac_client import Client"
      ],
      "metadata": {
        "colab": {
          "base_uri": "https://localhost:8080/"
        },
        "id": "t8ufGM5GYWQC",
        "outputId": "b8fa99c9-c8d8-4de4-f545-8c6dc5c3edd3"
      },
      "execution_count": null,
      "outputs": [
        {
          "output_type": "stream",
          "name": "stdout",
          "text": [
            "Colab only includes TensorFlow 2.x; %tensorflow_version has no effect.\n"
          ]
        }
      ]
    },
    {
      "cell_type": "code",
      "source": [
        "# Ignore warnings\n",
        "warnings.filterwarnings('ignore')"
      ],
      "metadata": {
        "id": "xVF878BKYJL2"
      },
      "execution_count": null,
      "outputs": []
    },
    {
      "cell_type": "code",
      "source": [
        "# Set matplotlib sizes\n",
        "plt.rc('font', size=20)\n",
        "plt.rc('axes', titlesize=20)\n",
        "plt.rc('axes', labelsize=20)\n",
        "plt.rc('xtick', labelsize=20)\n",
        "plt.rc('ytick', labelsize=20)\n",
        "plt.rc('legend', fontsize=20)\n",
        "plt.rc('figure', titlesize=20)"
      ],
      "metadata": {
        "id": "6_--Bce6YkjJ"
      },
      "execution_count": null,
      "outputs": []
    },
    {
      "cell_type": "code",
      "source": [
        "# Random Seed\n",
        "\n",
        "# The random seed\n",
        "random_seed = 42\n",
        "\n",
        "# Set random seed in tensorflow\n",
        "tf.random.set_seed(random_seed)\n",
        "\n",
        "# Set random seed in numpy\n",
        "np.random.seed(random_seed)"
      ],
      "metadata": {
        "id": "tPoIBcqWYlyX"
      },
      "execution_count": null,
      "outputs": []
    },
    {
      "cell_type": "code",
      "source": [
        "# Check what version of TF we are using\n",
        "print(tf.version.VERSION)"
      ],
      "metadata": {
        "colab": {
          "base_uri": "https://localhost:8080/"
        },
        "id": "DoItqqS7YnmL",
        "outputId": "893ef724-2304-4fd6-da67-6a7005e6fca0"
      },
      "execution_count": null,
      "outputs": [
        {
          "output_type": "stream",
          "name": "stdout",
          "text": [
            "2.12.0\n"
          ]
        }
      ]
    },
    {
      "cell_type": "code",
      "source": [
        "# Print the number of GPUs available\n",
        "print(\"Num GPUs Available: \", len(tf.config.list_physical_devices('GPU')))\n",
        "\n",
        "# Test to see if GPU is found and connected\n",
        "device_name = tf.test.gpu_device_name()\n",
        "if device_name != '/device:GPU:0':\n",
        "  print('GPU device not found')\n",
        "else:\n",
        "  print('\\nFound GPU at: {}'.format(device_name))\n",
        "  print('\\nCurrently using:')\n",
        "  !nvidia-smi -L"
      ],
      "metadata": {
        "colab": {
          "base_uri": "https://localhost:8080/"
        },
        "id": "9ZZOBfWfYpUd",
        "outputId": "d15a1823-09b5-4e08-8735-067c0203af9d"
      },
      "execution_count": null,
      "outputs": [
        {
          "output_type": "stream",
          "name": "stdout",
          "text": [
            "Num GPUs Available:  0\n",
            "GPU device not found\n"
          ]
        }
      ]
    },
    {
      "cell_type": "markdown",
      "source": [
        "## TO-DO:\n",
        "\n",
        "Organize data based on Emma's directoires"
      ],
      "metadata": {
        "id": "wZaX8NxHYvDP"
      }
    },
    {
      "cell_type": "code",
      "source": [
        "meta_df = pd.read_csv(abspath_curr + \"/data/metadata.csv\")\n",
        "class_df = pd.read_csv(abspath_curr + \"/data/class_dict.csv\")\n",
        "\n",
        "print(class_df.head(10))\n",
        "\n",
        "print(meta_df.head())"
      ],
      "metadata": {
        "id": "GCOzd96AYrKO"
      },
      "execution_count": null,
      "outputs": []
    },
    {
      "cell_type": "code",
      "source": [
        "# 'Valid' does not have masks so let's merge that with the train and take a subset of train for validation\n",
        "meta_df[meta_df['split'] == 'valid'].head()"
      ],
      "metadata": {
        "id": "oP9xLdN2ZDGx"
      },
      "execution_count": null,
      "outputs": []
    },
    {
      "cell_type": "code",
      "source": [
        "# Update meta_df\n",
        "meta_df['sat_image_path'] = meta_df['sat_image_path'].str.replace('valid/', 'test/')\n",
        "meta_df['split'] = meta_df['split'].str.replace('valid', 'test')"
      ],
      "metadata": {
        "id": "NJ9DOf6MZEj0"
      },
      "execution_count": null,
      "outputs": []
    },
    {
      "cell_type": "code",
      "source": [
        "# Create divides for train, test, val\n",
        "train_df = meta_df[meta_df['split'] == 'train']\n",
        "\n",
        "train_num_samples = round(len(train_df)*0.9)\n",
        "val_num_samples = len(train_df) - train_num_samples"
      ],
      "metadata": {
        "id": "JtncSiZcZG4T"
      },
      "execution_count": null,
      "outputs": []
    },
    {
      "cell_type": "code",
      "source": [
        "#shuffle all rows of DataFrame\n",
        "train_df = train_df.sample(frac=1, random_state=random_seed).reset_index(drop=True)\n",
        "train_df.head()"
      ],
      "metadata": {
        "id": "HaphDoMtZIUH"
      },
      "execution_count": null,
      "outputs": []
    }
  ]
}